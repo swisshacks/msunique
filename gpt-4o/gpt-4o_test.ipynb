{
 "cells": [
  {
   "cell_type": "code",
   "execution_count": null,
   "metadata": {},
   "outputs": [],
   "source": [
    "from openai import AzureOpenAI\n",
    "import json\n",
    "\n",
    "# Read configuration data from the JSON file\n",
    "with open(r'config.json') as config_file:\n",
    "    config_data = json.load(config_file)\n",
    "\n",
    "# Select a specific configuration\n",
    "selected_config = config_data['openAIConfigs'][0]\n",
    "\n",
    "print(f\"Using configuration: {selected_config['configName']}\")\n",
    "\n",
    "# Define the model name to be used\n",
    "model_name = selected_config['model']\n",
    "\n",
    "# Initialize the Azure OpenAI client\n",
    "azure_client = AzureOpenAI(\n",
    "    api_key=selected_config['apiKey'],\n",
    "    api_version=selected_config['apiVersion'],\n",
    "    azure_endpoint=selected_config['azureEndpoint']\n",
    ")\n",
    "\n",
    "# Perform a test completion request\n",
    "initial_prompt = \"This is a test\"\n",
    "response = azure_client.chat.completions.create(\n",
    "    model=model_name,\n",
    "    messages=[\n",
    "        {\"role\": \"system\", \"content\": \"You are a helpful assistant supporting data analysts.\"},\n",
    "        {\"role\": \"user\", \"content\": initial_prompt}\n",
    "    ]\n",
    ")\n",
    "\n",
    "# Display the response\n",
    "print(f\"{initial_prompt}\\n{response.choices[0].message.content}\")"
   ]
  },
  {
   "cell_type": "code",
   "execution_count": null,
   "metadata": {},
   "outputs": [],
   "source": [
    "# Use Embedding API\n",
    "# Select a specific configuration\n",
    "selected_config = config_data['openAIConfigs'][6]\n",
    "\n",
    "# Define the model name to be used\n",
    "model_name = selected_config['model']\n",
    "\n",
    "# Initialize the Azure OpenAI client\n",
    "azure_client = AzureOpenAI(\n",
    "    api_key=selected_config['apiKey'],\n",
    "    api_version=selected_config['apiVersion'],\n",
    "    azure_endpoint=selected_config['azureEndpoint']\n",
    ")\n",
    "\n",
    "azure_client.embeddings.create(\n",
    "    input=[\"Hello, world!\"],\n",
    "    model=\"ada-3\"\n",
    ")"
   ]
  }
 ],
 "metadata": {
  "kernelspec": {
   "display_name": "pyannote",
   "language": "python",
   "name": "pyannote"
  },
  "language_info": {
   "codemirror_mode": {
    "name": "ipython",
    "version": 3
   },
   "file_extension": ".py",
   "mimetype": "text/x-python",
   "name": "python",
   "nbconvert_exporter": "python",
   "pygments_lexer": "ipython3",
   "version": "3.8.13"
  }
 },
 "nbformat": 4,
 "nbformat_minor": 2
}
